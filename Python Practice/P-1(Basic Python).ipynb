{
 "cells": [
  {
   "cell_type": "raw",
   "id": "848d5798-ca2e-40af-a76c-11faffe0f31c",
   "metadata": {},
   "source": [
    "cell"
   ]
  },
  {
   "cell_type": "markdown",
   "id": "8f73eca8-b91a-4704-974c-8779ac8f9dad",
   "metadata": {},
   "source": [
    "This is markdown mode."
   ]
  },
  {
   "cell_type": "markdown",
   "id": "cfe15cf8-a964-48d9-9ea2-ad6f4a60df76",
   "metadata": {},
   "source": [
    "# h1 - #This is Heading"
   ]
  },
  {
   "cell_type": "markdown",
   "id": "53d4dbcb-d269-4abe-9ef6-5edca21d173f",
   "metadata": {},
   "source": [
    "## h2 "
   ]
  },
  {
   "cell_type": "markdown",
   "id": "977df35f-9083-4d94-8a3f-d55da45e509e",
   "metadata": {},
   "source": [
    "### h3 "
   ]
  },
  {
   "cell_type": "markdown",
   "id": "d02ade40-a819-4b2d-bd50-7563bb4d3e78",
   "metadata": {},
   "source": [
    "#### h4"
   ]
  },
  {
   "cell_type": "markdown",
   "id": "09829b22-489a-4b00-aea7-5e457176f6df",
   "metadata": {},
   "source": [
    "##### h5"
   ]
  },
  {
   "cell_type": "code",
   "execution_count": 15,
   "id": "78fcc475-1b75-4fd7-9222-3732a7a9b1be",
   "metadata": {},
   "outputs": [
    {
     "name": "stdout",
     "output_type": "stream",
     "text": [
      "This is code mode\n"
     ]
    }
   ],
   "source": [
    "print(\"This is code mode\")"
   ]
  },
  {
   "cell_type": "raw",
   "id": "871a75cf-8a94-4c46-b459-2676c23e4e6b",
   "metadata": {},
   "source": [
    "This is raw mode"
   ]
  },
  {
   "cell_type": "markdown",
   "id": "e89c1e15-c193-4390-8642-0ab457afae42",
   "metadata": {},
   "source": [
    "## Keywords "
   ]
  },
  {
   "cell_type": "markdown",
   "id": "944a14ad-2291-4519-afa9-1d1c75fa4143",
   "metadata": {},
   "source": [
    "Keywords are reserved words in Python. Overall we have are 35 keywords."
   ]
  },
  {
   "cell_type": "raw",
   "id": "52594226-62a4-460b-ad92-f1ec74f0d94f",
   "metadata": {},
   "source": [
    "def, import, True, False, ..."
   ]
  },
  {
   "cell_type": "markdown",
   "id": "3ea91f0e-8448-4a92-ab6c-a01cfde62060",
   "metadata": {},
   "source": [
    "## Identifiers"
   ]
  },
  {
   "cell_type": "markdown",
   "id": "31eb723b-247a-49a0-b968-3de8403e9081",
   "metadata": {},
   "source": [
    "Identifiers are those words that helps user assign specific meaning to it."
   ]
  },
  {
   "cell_type": "code",
   "execution_count": 42,
   "id": "d16c0571-f4f8-4c21-ab16-9409ad7cb987",
   "metadata": {},
   "outputs": [],
   "source": [
    "abc_01=123"
   ]
  },
  {
   "cell_type": "markdown",
   "id": "19fbaa22-ff85-46a0-a72d-059e4d7bba84",
   "metadata": {},
   "source": [
    "## Comment"
   ]
  },
  {
   "cell_type": "raw",
   "id": "4ef5077f-faa5-4b85-8ea6-c7c635ec5d99",
   "metadata": {},
   "source": [
    "Single line #"
   ]
  },
  {
   "cell_type": "raw",
   "id": "a749e0f0-aa97-4744-bb34-dac44899bc9f",
   "metadata": {},
   "source": [
    "Mullti line \"\"\"   \"\"\""
   ]
  },
  {
   "cell_type": "code",
   "execution_count": 48,
   "id": "9d30fc2e-f326-423a-a2a0-51ca1de242d7",
   "metadata": {},
   "outputs": [],
   "source": [
    "#abc "
   ]
  },
  {
   "cell_type": "code",
   "execution_count": 52,
   "id": "04e6b424-cdf2-41f5-b390-42171a8a2850",
   "metadata": {},
   "outputs": [
    {
     "data": {
      "text/plain": [
       "'\\n1\\n2\\n3\\n'"
      ]
     },
     "execution_count": 52,
     "metadata": {},
     "output_type": "execute_result"
    }
   ],
   "source": [
    "\"\"\"\n",
    "1\n",
    "2\n",
    "3\n",
    "\"\"\""
   ]
  },
  {
   "cell_type": "markdown",
   "id": "1aa08c75-9cb4-4f8e-90c1-94ec13a18de5",
   "metadata": {},
   "source": [
    "## DataType"
   ]
  },
  {
   "cell_type": "markdown",
   "id": "bd3d68c3-ea35-4653-b494-0ae14000f758",
   "metadata": {},
   "source": [
    "Python has several built in datatypes."
   ]
  },
  {
   "cell_type": "markdown",
   "id": "1cf6d3f4-4541-4701-8ec2-2c31c4f8da2d",
   "metadata": {},
   "source": [
    "Each datatype has it own set of properties, methods, and behavior."
   ]
  },
  {
   "cell_type": "markdown",
   "id": "aa6c119c-d8da-4e9a-8edb-622d981db3eb",
   "metadata": {},
   "source": [
    "## Primitive Datatypes:"
   ]
  },
  {
   "cell_type": "markdown",
   "id": "874900e1-acb8-4743-a0cd-2df4f497b336",
   "metadata": {},
   "source": [
    "Primitive Datatypes include:\n",
    "1. Integer\n",
    "2. Float\n",
    "3. Complex\n",
    "4. String\n",
    "5. Boolean\n",
    "6. None"
   ]
  },
  {
   "cell_type": "code",
   "execution_count": 2,
   "id": "c80e2d40-25da-495c-a1ad-d1a9a9cd3937",
   "metadata": {},
   "outputs": [
    {
     "name": "stdout",
     "output_type": "stream",
     "text": [
      "20\n",
      "<class 'int'>\n"
     ]
    }
   ],
   "source": [
    "i=20\n",
    "print(i)\n",
    "print(type(i))"
   ]
  },
  {
   "cell_type": "code",
   "execution_count": 3,
   "id": "e834bb9c-09c3-484f-ae41-29de8fff3d11",
   "metadata": {},
   "outputs": [
    {
     "name": "stdout",
     "output_type": "stream",
     "text": [
      "20.1\n",
      "<class 'float'>\n"
     ]
    }
   ],
   "source": [
    "i=20.1\n",
    "print(i)\n",
    "print(type(i))"
   ]
  },
  {
   "cell_type": "code",
   "execution_count": 4,
   "id": "b48a8d3c-740e-4cb1-8a58-eed1c8df7cb7",
   "metadata": {},
   "outputs": [
    {
     "name": "stdout",
     "output_type": "stream",
     "text": [
      "Text\n",
      "<class 'str'>\n"
     ]
    }
   ],
   "source": [
    "s=\"Text\"\n",
    "print(s)\n",
    "print(type(s))"
   ]
  },
  {
   "cell_type": "code",
   "execution_count": 5,
   "id": "532f9f15-f19c-419c-badf-3bed8137eb75",
   "metadata": {},
   "outputs": [
    {
     "name": "stdout",
     "output_type": "stream",
     "text": [
      "<class 'bool'>\n"
     ]
    }
   ],
   "source": [
    "x=True\n",
    "print(type(x))"
   ]
  },
  {
   "cell_type": "code",
   "execution_count": 9,
   "id": "5f632029-9586-4d49-86fe-395b0346b0fd",
   "metadata": {},
   "outputs": [
    {
     "name": "stdout",
     "output_type": "stream",
     "text": [
      "(2+3j)\n"
     ]
    }
   ],
   "source": [
    "c = complex(2,3)\n",
    "print(c)"
   ]
  },
  {
   "cell_type": "code",
   "execution_count": 11,
   "id": "d4818191-efc5-4694-bdb2-d226b79d5b6b",
   "metadata": {},
   "outputs": [
    {
     "data": {
      "text/plain": [
       "2.0"
      ]
     },
     "execution_count": 11,
     "metadata": {},
     "output_type": "execute_result"
    }
   ],
   "source": [
    "c.real"
   ]
  },
  {
   "cell_type": "code",
   "execution_count": 13,
   "id": "0b9fc488-8d9a-443d-a5ab-8fe5a9b00b4e",
   "metadata": {},
   "outputs": [
    {
     "data": {
      "text/plain": [
       "3.0"
      ]
     },
     "execution_count": 13,
     "metadata": {},
     "output_type": "execute_result"
    }
   ],
   "source": [
    "c.imag"
   ]
  },
  {
   "cell_type": "code",
   "execution_count": 14,
   "id": "af1e2c34-536c-4d80-8367-35587e553703",
   "metadata": {},
   "outputs": [
    {
     "name": "stdout",
     "output_type": "stream",
     "text": [
      "<class 'NoneType'>\n"
     ]
    }
   ],
   "source": [
    "n=None\n",
    "print(type(n))"
   ]
  },
  {
   "cell_type": "markdown",
   "id": "7ed77891-7046-4f5e-a3ae-df825fcd5318",
   "metadata": {},
   "source": [
    "## Non-Primitive Datatypes:"
   ]
  },
  {
   "cell_type": "markdown",
   "id": "32ab0dc2-1e2f-4895-aea6-43fbf2c1e4a8",
   "metadata": {},
   "source": [
    "Non-Primitive Datatypes include:\n",
    "1. List\n",
    "2. Tuple\n",
    "3. Set\n",
    "4. Dictionary"
   ]
  },
  {
   "cell_type": "code",
   "execution_count": 16,
   "id": "cb10998d-575b-4f8a-801f-5bd2047374cc",
   "metadata": {},
   "outputs": [
    {
     "name": "stdout",
     "output_type": "stream",
     "text": [
      "<class 'list'>\n"
     ]
    }
   ],
   "source": [
    "l = [1, 1.10, \"hello\", True]\n",
    "print(type(l))"
   ]
  },
  {
   "cell_type": "markdown",
   "id": "c33b5101-321c-40f9-a766-68fabd097aef",
   "metadata": {},
   "source": [
    "## Indexing"
   ]
  },
  {
   "cell_type": "code",
   "execution_count": 17,
   "id": "8613f6f0-f4ab-4547-9211-fe58e94d11ce",
   "metadata": {},
   "outputs": [
    {
     "name": "stdout",
     "output_type": "stream",
     "text": [
      "1.1\n"
     ]
    }
   ],
   "source": [
    "print(l[1])"
   ]
  },
  {
   "cell_type": "markdown",
   "id": "5d1005c4-8a3c-4d3e-b57a-4b40a2c9fe43",
   "metadata": {},
   "source": [
    "## Nested List"
   ]
  },
  {
   "cell_type": "code",
   "execution_count": 18,
   "id": "faa85a6e-1cec-4478-bebd-d497b43dca8a",
   "metadata": {},
   "outputs": [],
   "source": [
    "list = [10,20,30, [\"apple\",\"banana\"], 'xyz']"
   ]
  },
  {
   "cell_type": "code",
   "execution_count": 20,
   "id": "5f0a8fee-6ad0-4d45-a1cf-82de3a3b23c2",
   "metadata": {},
   "outputs": [
    {
     "data": {
      "text/plain": [
       "'apple'"
      ]
     },
     "execution_count": 20,
     "metadata": {},
     "output_type": "execute_result"
    }
   ],
   "source": [
    "list[3][0]"
   ]
  },
  {
   "cell_type": "code",
   "execution_count": 21,
   "id": "910e498a-483b-46ce-a7a2-088e9d9dea0f",
   "metadata": {},
   "outputs": [],
   "source": [
    "n_list = [10,20,30,40,50,[\"apple\",\"banana\",\"guava\",\"papaya\"], 89]"
   ]
  },
  {
   "cell_type": "code",
   "execution_count": 22,
   "id": "0542cb2f-e104-45ca-a0d2-3ad293dca49a",
   "metadata": {},
   "outputs": [
    {
     "data": {
      "text/plain": [
       "'guava'"
      ]
     },
     "execution_count": 22,
     "metadata": {},
     "output_type": "execute_result"
    }
   ],
   "source": [
    "n_list[-2][2]"
   ]
  },
  {
   "cell_type": "markdown",
   "id": "192ce1a1-c09d-40b4-bd5a-56d91d4d6be2",
   "metadata": {},
   "source": [
    "## Help Function "
   ]
  },
  {
   "cell_type": "markdown",
   "id": "722756ad-e64f-4e5e-ad97-3aec4ebc38d3",
   "metadata": {},
   "source": [
    "used to describe function"
   ]
  },
  {
   "cell_type": "code",
   "execution_count": 23,
   "id": "ec8fb0f8-b41f-4920-98d4-909e91a66e1e",
   "metadata": {},
   "outputs": [
    {
     "name": "stdout",
     "output_type": "stream",
     "text": [
      "Help on list object:\n",
      "\n",
      "class list(object)\n",
      " |  list(iterable=(), /)\n",
      " |\n",
      " |  Built-in mutable sequence.\n",
      " |\n",
      " |  If no argument is given, the constructor creates a new empty list.\n",
      " |  The argument must be an iterable if specified.\n",
      " |\n",
      " |  Methods defined here:\n",
      " |\n",
      " |  __add__(self, value, /)\n",
      " |      Return self+value.\n",
      " |\n",
      " |  __contains__(self, key, /)\n",
      " |      Return bool(key in self).\n",
      " |\n",
      " |  __delitem__(self, key, /)\n",
      " |      Delete self[key].\n",
      " |\n",
      " |  __eq__(self, value, /)\n",
      " |      Return self==value.\n",
      " |\n",
      " |  __ge__(self, value, /)\n",
      " |      Return self>=value.\n",
      " |\n",
      " |  __getattribute__(self, name, /)\n",
      " |      Return getattr(self, name).\n",
      " |\n",
      " |  __getitem__(self, index, /)\n",
      " |      Return self[index].\n",
      " |\n",
      " |  __gt__(self, value, /)\n",
      " |      Return self>value.\n",
      " |\n",
      " |  __iadd__(self, value, /)\n",
      " |      Implement self+=value.\n",
      " |\n",
      " |  __imul__(self, value, /)\n",
      " |      Implement self*=value.\n",
      " |\n",
      " |  __init__(self, /, *args, **kwargs)\n",
      " |      Initialize self.  See help(type(self)) for accurate signature.\n",
      " |\n",
      " |  __iter__(self, /)\n",
      " |      Implement iter(self).\n",
      " |\n",
      " |  __le__(self, value, /)\n",
      " |      Return self<=value.\n",
      " |\n",
      " |  __len__(self, /)\n",
      " |      Return len(self).\n",
      " |\n",
      " |  __lt__(self, value, /)\n",
      " |      Return self<value.\n",
      " |\n",
      " |  __mul__(self, value, /)\n",
      " |      Return self*value.\n",
      " |\n",
      " |  __ne__(self, value, /)\n",
      " |      Return self!=value.\n",
      " |\n",
      " |  __repr__(self, /)\n",
      " |      Return repr(self).\n",
      " |\n",
      " |  __reversed__(self, /)\n",
      " |      Return a reverse iterator over the list.\n",
      " |\n",
      " |  __rmul__(self, value, /)\n",
      " |      Return value*self.\n",
      " |\n",
      " |  __setitem__(self, key, value, /)\n",
      " |      Set self[key] to value.\n",
      " |\n",
      " |  __sizeof__(self, /)\n",
      " |      Return the size of the list in memory, in bytes.\n",
      " |\n",
      " |  append(self, object, /)\n",
      " |      Append object to the end of the list.\n",
      " |\n",
      " |  clear(self, /)\n",
      " |      Remove all items from list.\n",
      " |\n",
      " |  copy(self, /)\n",
      " |      Return a shallow copy of the list.\n",
      " |\n",
      " |  count(self, value, /)\n",
      " |      Return number of occurrences of value.\n",
      " |\n",
      " |  extend(self, iterable, /)\n",
      " |      Extend list by appending elements from the iterable.\n",
      " |\n",
      " |  index(self, value, start=0, stop=9223372036854775807, /)\n",
      " |      Return first index of value.\n",
      " |\n",
      " |      Raises ValueError if the value is not present.\n",
      " |\n",
      " |  insert(self, index, object, /)\n",
      " |      Insert object before index.\n",
      " |\n",
      " |  pop(self, index=-1, /)\n",
      " |      Remove and return item at index (default last).\n",
      " |\n",
      " |      Raises IndexError if list is empty or index is out of range.\n",
      " |\n",
      " |  remove(self, value, /)\n",
      " |      Remove first occurrence of value.\n",
      " |\n",
      " |      Raises ValueError if the value is not present.\n",
      " |\n",
      " |  reverse(self, /)\n",
      " |      Reverse *IN PLACE*.\n",
      " |\n",
      " |  sort(self, /, *, key=None, reverse=False)\n",
      " |      Sort the list in ascending order and return None.\n",
      " |\n",
      " |      The sort is in-place (i.e. the list itself is modified) and stable (i.e. the\n",
      " |      order of two equal elements is maintained).\n",
      " |\n",
      " |      If a key function is given, apply it once to each list item and sort them,\n",
      " |      ascending or descending, according to their function values.\n",
      " |\n",
      " |      The reverse flag can be set to sort in descending order.\n",
      " |\n",
      " |  ----------------------------------------------------------------------\n",
      " |  Class methods defined here:\n",
      " |\n",
      " |  __class_getitem__(...) from builtins.type\n",
      " |      See PEP 585\n",
      " |\n",
      " |  ----------------------------------------------------------------------\n",
      " |  Static methods defined here:\n",
      " |\n",
      " |  __new__(*args, **kwargs) from builtins.type\n",
      " |      Create and return a new object.  See help(type) for accurate signature.\n",
      " |\n",
      " |  ----------------------------------------------------------------------\n",
      " |  Data and other attributes defined here:\n",
      " |\n",
      " |  __hash__ = None\n",
      "\n"
     ]
    }
   ],
   "source": [
    "help(list)"
   ]
  },
  {
   "cell_type": "code",
   "execution_count": null,
   "id": "5eb83665-5527-4e5c-a16c-4def020410a1",
   "metadata": {},
   "outputs": [],
   "source": []
  }
 ],
 "metadata": {
  "kernelspec": {
   "display_name": "Python 3 (ipykernel)",
   "language": "python",
   "name": "python3"
  },
  "language_info": {
   "codemirror_mode": {
    "name": "ipython",
    "version": 3
   },
   "file_extension": ".py",
   "mimetype": "text/x-python",
   "name": "python",
   "nbconvert_exporter": "python",
   "pygments_lexer": "ipython3",
   "version": "3.12.7"
  }
 },
 "nbformat": 4,
 "nbformat_minor": 5
}
