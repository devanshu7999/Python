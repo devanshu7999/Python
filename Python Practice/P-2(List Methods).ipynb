{
 "cells": [
  {
   "cell_type": "markdown",
   "id": "aab0b720-8788-4000-8580-5bf39e1fe92c",
   "metadata": {},
   "source": [
    "## List Methods"
   ]
  },
  {
   "cell_type": "markdown",
   "id": "03e4bffc-46d3-455b-b5af-00cd62292a4c",
   "metadata": {},
   "source": [
    "#### ADD ELEMENT:"
   ]
  },
  {
   "cell_type": "code",
   "execution_count": 75,
   "id": "119e57ac-2073-4309-8f9f-fdf8fee885b3",
   "metadata": {},
   "outputs": [],
   "source": [
    "list = [\"apple\", \"banana\"]"
   ]
  },
  {
   "cell_type": "code",
   "execution_count": 77,
   "id": "e1cbc2e2-5aff-4404-81fe-a210cf6f269e",
   "metadata": {},
   "outputs": [],
   "source": [
    "list.append(\"cherry\") #append - to add one element by the end of list"
   ]
  },
  {
   "cell_type": "code",
   "execution_count": 79,
   "id": "a2d428ca-e1e6-4f44-b591-ca18086dfe40",
   "metadata": {},
   "outputs": [
    {
     "name": "stdout",
     "output_type": "stream",
     "text": [
      "['apple', 'banana', 'cherry']\n"
     ]
    }
   ],
   "source": [
    "print(list)"
   ]
  },
  {
   "cell_type": "code",
   "execution_count": 81,
   "id": "51834b53-0de9-4d22-84ef-808d76710ce8",
   "metadata": {},
   "outputs": [],
   "source": [
    "list.extend(['dragon-fruit','grapes','pineapple']) #extend - to add multiple elements by the end of list"
   ]
  },
  {
   "cell_type": "code",
   "execution_count": 83,
   "id": "b9da6e0d-9c4f-4e68-aa1a-cfc86ae0dbef",
   "metadata": {},
   "outputs": [
    {
     "name": "stdout",
     "output_type": "stream",
     "text": [
      "['apple', 'banana', 'cherry', 'dragon-fruit', 'grapes', 'pineapple']\n"
     ]
    }
   ],
   "source": [
    "print(list)"
   ]
  },
  {
   "cell_type": "code",
   "execution_count": 85,
   "id": "e2f54b10-5513-4284-992e-ca5bb2e84b35",
   "metadata": {},
   "outputs": [],
   "source": [
    "list.insert(0, 'new') #insert - to add element at specific index"
   ]
  },
  {
   "cell_type": "code",
   "execution_count": 87,
   "id": "328417f4-4c59-45b5-a6a5-b5b80bf468e3",
   "metadata": {},
   "outputs": [
    {
     "name": "stdout",
     "output_type": "stream",
     "text": [
      "['new', 'apple', 'banana', 'cherry', 'dragon-fruit', 'grapes', 'pineapple']\n"
     ]
    }
   ],
   "source": [
    "print(list)"
   ]
  },
  {
   "cell_type": "markdown",
   "id": "1521722a-f65d-4fc9-b874-6766080ed9c8",
   "metadata": {},
   "source": [
    "#### REMOVE ELEMENT:"
   ]
  },
  {
   "cell_type": "code",
   "execution_count": 90,
   "id": "cc82bcb4-0706-4b1e-86c8-2d64b22df98f",
   "metadata": {},
   "outputs": [
    {
     "data": {
      "text/plain": [
       "'pineapple'"
      ]
     },
     "execution_count": 90,
     "metadata": {},
     "output_type": "execute_result"
    }
   ],
   "source": [
    "list.pop() #removes a element from end"
   ]
  },
  {
   "cell_type": "code",
   "execution_count": 92,
   "id": "1848b1b6-cc67-45f3-9d86-153cfb63a0f3",
   "metadata": {},
   "outputs": [
    {
     "name": "stdout",
     "output_type": "stream",
     "text": [
      "['new', 'apple', 'banana', 'cherry', 'dragon-fruit', 'grapes']\n"
     ]
    }
   ],
   "source": [
    "print(list)"
   ]
  },
  {
   "cell_type": "code",
   "execution_count": 94,
   "id": "a354cd25-6203-4e1f-aaff-6a26b48bace7",
   "metadata": {},
   "outputs": [
    {
     "data": {
      "text/plain": [
       "'new'"
      ]
     },
     "execution_count": 94,
     "metadata": {},
     "output_type": "execute_result"
    }
   ],
   "source": [
    "list.pop(0) #remove element by index "
   ]
  },
  {
   "cell_type": "code",
   "execution_count": 96,
   "id": "1a18aa78-3aa9-4789-b0cc-517ffb44f5bd",
   "metadata": {},
   "outputs": [
    {
     "name": "stdout",
     "output_type": "stream",
     "text": [
      "['apple', 'banana', 'cherry', 'dragon-fruit', 'grapes']\n"
     ]
    }
   ],
   "source": [
    "print(list)"
   ]
  },
  {
   "cell_type": "code",
   "execution_count": 98,
   "id": "b76b1b24-d689-45d7-9578-75c9e8e57b10",
   "metadata": {},
   "outputs": [],
   "source": [
    "list.remove(\"dragon-fruit\") #remove element by element"
   ]
  },
  {
   "cell_type": "code",
   "execution_count": 100,
   "id": "ee8a5bbc-022f-4471-a8ef-9c7350619a0b",
   "metadata": {},
   "outputs": [
    {
     "name": "stdout",
     "output_type": "stream",
     "text": [
      "['apple', 'banana', 'cherry', 'grapes']\n"
     ]
    }
   ],
   "source": [
    "print(list)"
   ]
  },
  {
   "cell_type": "code",
   "execution_count": 102,
   "id": "059424ca-c746-4965-98db-c9fc13d1acda",
   "metadata": {},
   "outputs": [],
   "source": [
    "list.clear() #remove all the elements from list"
   ]
  },
  {
   "cell_type": "code",
   "execution_count": 104,
   "id": "efc4cf90-578b-47ac-a72e-71ef106ef9e6",
   "metadata": {},
   "outputs": [
    {
     "name": "stdout",
     "output_type": "stream",
     "text": [
      "[]\n"
     ]
    }
   ],
   "source": [
    "print(list)"
   ]
  },
  {
   "cell_type": "markdown",
   "id": "15d84d0b-fe24-4e0b-955e-70c9007330ad",
   "metadata": {},
   "source": [
    "## INDEX"
   ]
  },
  {
   "cell_type": "code",
   "execution_count": 107,
   "id": "ddc1ec22-0b39-40e8-853e-9c6eeb64086c",
   "metadata": {},
   "outputs": [],
   "source": [
    "list = ['one','two','three','four','five']"
   ]
  },
  {
   "cell_type": "code",
   "execution_count": 111,
   "id": "6cd096d2-267f-475b-bea2-dfef16b49d65",
   "metadata": {},
   "outputs": [
    {
     "data": {
      "text/plain": [
       "1"
      ]
     },
     "execution_count": 111,
     "metadata": {},
     "output_type": "execute_result"
    }
   ],
   "source": [
    "list.index('two') #identify index of element inside the list"
   ]
  },
  {
   "cell_type": "markdown",
   "id": "9baff0ba-36f0-4153-ba9a-c1345c09fd31",
   "metadata": {},
   "source": [
    "## COPY"
   ]
  },
  {
   "cell_type": "code",
   "execution_count": 118,
   "id": "6b7338ea-0263-444f-be37-1c7a79a29408",
   "metadata": {},
   "outputs": [],
   "source": [
    "copied_list = list.copy() #copies element of a list and stores in identifier"
   ]
  },
  {
   "cell_type": "code",
   "execution_count": 120,
   "id": "338b3e87-f390-4f35-b4a6-79876494f9cf",
   "metadata": {},
   "outputs": [
    {
     "name": "stdout",
     "output_type": "stream",
     "text": [
      "['one', 'two', 'three', 'four', 'five']\n"
     ]
    }
   ],
   "source": [
    "print(copied_list)"
   ]
  },
  {
   "cell_type": "markdown",
   "id": "5536f51a-8164-4c97-bf96-2bdf16f2ff30",
   "metadata": {},
   "source": [
    "## COUNT"
   ]
  },
  {
   "cell_type": "code",
   "execution_count": 132,
   "id": "f37c917a-4123-4f54-ba5c-f86da51990aa",
   "metadata": {},
   "outputs": [],
   "source": [
    "c = list.count('two') #Return number of occurrences of element"
   ]
  },
  {
   "cell_type": "code",
   "execution_count": 134,
   "id": "08577c3d-e9d1-46c8-8d60-c3dbaa9d94e5",
   "metadata": {},
   "outputs": [
    {
     "name": "stdout",
     "output_type": "stream",
     "text": [
      "1\n"
     ]
    }
   ],
   "source": [
    "print(c)"
   ]
  },
  {
   "cell_type": "markdown",
   "id": "b5561541-78b2-4f0c-84eb-ca8d8bf68d2c",
   "metadata": {},
   "source": [
    "## SORT"
   ]
  },
  {
   "cell_type": "code",
   "execution_count": 151,
   "id": "f2233d9a-e93b-4939-8380-677b9e326e07",
   "metadata": {},
   "outputs": [],
   "source": [
    "list_num = [0,23,14,25,89,5,2,4]"
   ]
  },
  {
   "cell_type": "code",
   "execution_count": 153,
   "id": "7d07e9d9-a9bb-48d4-9c73-7db91b259ec5",
   "metadata": {},
   "outputs": [],
   "source": [
    "list_num.sort()  #ascending order"
   ]
  },
  {
   "cell_type": "code",
   "execution_count": 155,
   "id": "f75c622d-4982-41df-bfbc-753bb5a374e7",
   "metadata": {},
   "outputs": [
    {
     "data": {
      "text/plain": [
       "[0, 2, 4, 5, 14, 23, 25, 89]"
      ]
     },
     "execution_count": 155,
     "metadata": {},
     "output_type": "execute_result"
    }
   ],
   "source": [
    "list_num"
   ]
  },
  {
   "cell_type": "code",
   "execution_count": 157,
   "id": "f8800e02-5272-4fbb-b942-35268bcde9dd",
   "metadata": {},
   "outputs": [],
   "source": [
    "list_num.sort(reverse=True) #descending order"
   ]
  },
  {
   "cell_type": "code",
   "execution_count": 159,
   "id": "3583b9ce-df01-443c-aba4-7199abeb6f3c",
   "metadata": {},
   "outputs": [
    {
     "data": {
      "text/plain": [
       "[89, 25, 23, 14, 5, 4, 2, 0]"
      ]
     },
     "execution_count": 159,
     "metadata": {},
     "output_type": "execute_result"
    }
   ],
   "source": [
    "list_num"
   ]
  },
  {
   "cell_type": "markdown",
   "id": "95fdcf72-3dd0-42ec-a193-7a6a1542c504",
   "metadata": {},
   "source": [
    "## REVERSE"
   ]
  },
  {
   "cell_type": "code",
   "execution_count": 162,
   "id": "52514da1-233b-40d9-9a9c-c6efc2aadb9f",
   "metadata": {},
   "outputs": [],
   "source": [
    "list_str = ['cat','basketball','banana','apple']"
   ]
  },
  {
   "cell_type": "code",
   "execution_count": 164,
   "id": "cfc2cd37-74f6-4fd3-b91f-edc42dbecc78",
   "metadata": {},
   "outputs": [],
   "source": [
    "list_str.reverse()"
   ]
  },
  {
   "cell_type": "code",
   "execution_count": 166,
   "id": "c71f711c-d16b-4b87-bea2-0a9e217b0507",
   "metadata": {},
   "outputs": [
    {
     "data": {
      "text/plain": [
       "['apple', 'banana', 'basketball', 'cat']"
      ]
     },
     "execution_count": 166,
     "metadata": {},
     "output_type": "execute_result"
    }
   ],
   "source": [
    "list_str"
   ]
  },
  {
   "cell_type": "code",
   "execution_count": null,
   "id": "356a1629-a77c-42d0-8d08-850bb4127b02",
   "metadata": {},
   "outputs": [],
   "source": []
  }
 ],
 "metadata": {
  "kernelspec": {
   "display_name": "Python 3 (ipykernel)",
   "language": "python",
   "name": "python3"
  },
  "language_info": {
   "codemirror_mode": {
    "name": "ipython",
    "version": 3
   },
   "file_extension": ".py",
   "mimetype": "text/x-python",
   "name": "python",
   "nbconvert_exporter": "python",
   "pygments_lexer": "ipython3",
   "version": "3.12.7"
  }
 },
 "nbformat": 4,
 "nbformat_minor": 5
}
