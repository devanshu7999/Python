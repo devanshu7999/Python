{
 "cells": [
  {
   "cell_type": "markdown",
   "id": "2e5f05ca-afda-4b0e-8394-a0ae05415ce1",
   "metadata": {},
   "source": [
    "# Tuple"
   ]
  },
  {
   "cell_type": "code",
   "execution_count": 56,
   "id": "acc738a4-bf34-4409-a737-2afa6b9423b6",
   "metadata": {},
   "outputs": [],
   "source": [
    "tuple_x = (1,2,3,4,5)"
   ]
  },
  {
   "cell_type": "code",
   "execution_count": 58,
   "id": "4097db79-7343-4dd1-b932-91fc75ee2cac",
   "metadata": {},
   "outputs": [
    {
     "name": "stdout",
     "output_type": "stream",
     "text": [
      "(1, 2, 3, 4, 5)\n"
     ]
    }
   ],
   "source": [
    "print(tuple_x)"
   ]
  },
  {
   "cell_type": "code",
   "execution_count": 60,
   "id": "fcdbf3ef-2a8a-4baa-ae41-e4313d4dfa06",
   "metadata": {},
   "outputs": [
    {
     "data": {
      "text/plain": [
       "tuple"
      ]
     },
     "execution_count": 60,
     "metadata": {},
     "output_type": "execute_result"
    }
   ],
   "source": [
    "type(tuple_x)"
   ]
  },
  {
   "cell_type": "code",
   "execution_count": 62,
   "id": "e5b7c529-1f18-44e1-8ca6-e9150faea113",
   "metadata": {},
   "outputs": [
    {
     "data": {
      "text/plain": [
       "1"
      ]
     },
     "execution_count": 62,
     "metadata": {},
     "output_type": "execute_result"
    }
   ],
   "source": [
    "tuple_x[0] #index 0 value return"
   ]
  },
  {
   "cell_type": "raw",
   "id": "c49aee89-8977-4592-9b72-82d470453057",
   "metadata": {},
   "source": [
    "Tuple also allows indexing"
   ]
  },
  {
   "cell_type": "markdown",
   "id": "c547c7e3-cc66-45f1-8820-5a667f1a8013",
   "metadata": {},
   "source": [
    "## Slicing"
   ]
  },
  {
   "cell_type": "markdown",
   "id": "58c70cd8-28f9-4ab3-b4b6-e614c740afe9",
   "metadata": {},
   "source": [
    "Slicing is used for extracting specific portions of sequences, such as strings, lists, and tuples."
   ]
  },
  {
   "cell_type": "markdown",
   "id": "a6d1b5e6-3da4-4a7a-a066-872b2b761362",
   "metadata": {},
   "source": [
    "Syntax: name_variable[Start: End: Jump]      //Always use [::] while performing slicing"
   ]
  },
  {
   "cell_type": "markdown",
   "id": "251e78d4-3a9b-4e24-989b-6542908bd11d",
   "metadata": {},
   "source": [
    "Last position is Exclusive in nature (so,pick End as n+1)"
   ]
  },
  {
   "cell_type": "markdown",
   "id": "6769174b-2a78-45a6-94a4-80825273c63c",
   "metadata": {},
   "source": [
    "Blank Space is also counted in Slicing"
   ]
  },
  {
   "cell_type": "code",
   "execution_count": 69,
   "id": "7c1109e7-3f2a-4a06-92b6-56584ff390e5",
   "metadata": {},
   "outputs": [],
   "source": [
    "tuple = (10,20,22,44,60)"
   ]
  },
  {
   "cell_type": "markdown",
   "id": "6fb75e90-53c0-4e8f-a51c-212ebc8bfa88",
   "metadata": {},
   "source": [
    "## Forward Slicing"
   ]
  },
  {
   "cell_type": "markdown",
   "id": "8d12eb76-59af-4628-a4db-5b5d6cbbe67f",
   "metadata": {},
   "source": [
    "#### - Forward slicing involves traversing the sequence from left to right ->"
   ]
  },
  {
   "cell_type": "code",
   "execution_count": 73,
   "id": "28c08ade-9b84-48c9-8fef-2b30ecca31ad",
   "metadata": {},
   "outputs": [
    {
     "data": {
      "text/plain": [
       "(20, 22, 44)"
      ]
     },
     "execution_count": 73,
     "metadata": {},
     "output_type": "execute_result"
    }
   ],
   "source": [
    "tuple[1:4]"
   ]
  },
  {
   "cell_type": "code",
   "execution_count": 75,
   "id": "19eec5fd-173a-459d-9682-007c7c833c2a",
   "metadata": {},
   "outputs": [
    {
     "data": {
      "text/plain": [
       "(10, 20, 22, 44, 60)"
      ]
     },
     "execution_count": 75,
     "metadata": {},
     "output_type": "execute_result"
    }
   ],
   "source": [
    "tuple[0: ]"
   ]
  },
  {
   "cell_type": "code",
   "execution_count": 78,
   "id": "08224274-64b0-4e38-a26f-7c7aef948401",
   "metadata": {},
   "outputs": [
    {
     "data": {
      "text/plain": [
       "(44, 60)"
      ]
     },
     "execution_count": 78,
     "metadata": {},
     "output_type": "execute_result"
    }
   ],
   "source": [
    "tuple[-2: ] "
   ]
  },
  {
   "cell_type": "code",
   "execution_count": 80,
   "id": "c83aa5c7-96af-4e2a-a381-521b6ec00e72",
   "metadata": {},
   "outputs": [
    {
     "data": {
      "text/plain": [
       "(20, 22)"
      ]
     },
     "execution_count": 80,
     "metadata": {},
     "output_type": "execute_result"
    }
   ],
   "source": [
    "tuple[-4:-2]"
   ]
  },
  {
   "cell_type": "code",
   "execution_count": 163,
   "id": "ad84e0fd-b4b5-4249-a8bb-bd8efefdb653",
   "metadata": {},
   "outputs": [],
   "source": [
    "#10,22,60 - Access - use jump"
   ]
  },
  {
   "cell_type": "code",
   "execution_count": 161,
   "id": "14ad3715-a4ad-4bd4-80cb-951359233ea1",
   "metadata": {},
   "outputs": [
    {
     "data": {
      "text/plain": [
       "(10, 22, 60)"
      ]
     },
     "execution_count": 161,
     "metadata": {},
     "output_type": "execute_result"
    }
   ],
   "source": [
    "tuple[0: :2]"
   ]
  },
  {
   "cell_type": "markdown",
   "id": "9378186c-e71e-44b9-aa1a-59e43437a9fe",
   "metadata": {},
   "source": [
    "## Backward Slicing"
   ]
  },
  {
   "cell_type": "markdown",
   "id": "79d08a00-c34c-4bdc-93ae-207f8f600b9d",
   "metadata": {},
   "source": [
    "#### - Backward slicing involves traversing the sequence from right to left <-"
   ]
  },
  {
   "cell_type": "code",
   "execution_count": 102,
   "id": "3536c8c0-5305-4593-9a7d-5e3746bc031f",
   "metadata": {},
   "outputs": [
    {
     "data": {
      "text/plain": [
       "(60, 44, 22)"
      ]
     },
     "execution_count": 102,
     "metadata": {},
     "output_type": "execute_result"
    }
   ],
   "source": [
    "tuple[-1:-4:-1]"
   ]
  },
  {
   "cell_type": "code",
   "execution_count": 112,
   "id": "fdd1a83d-0984-4ac2-b26c-d106c25dcf70",
   "metadata": {},
   "outputs": [
    {
     "data": {
      "text/plain": [
       "(60, 44, 22, 20, 10)"
      ]
     },
     "execution_count": 112,
     "metadata": {},
     "output_type": "execute_result"
    }
   ],
   "source": [
    "tuple[ : :-1]"
   ]
  },
  {
   "cell_type": "code",
   "execution_count": 114,
   "id": "321e7b4a-db6e-4074-80f7-5af8dd7476e9",
   "metadata": {},
   "outputs": [],
   "source": [
    "my_string = \"Python\""
   ]
  },
  {
   "cell_type": "code",
   "execution_count": 116,
   "id": "198e0a94-b2c1-4632-9fe8-62b6ed24fc2c",
   "metadata": {},
   "outputs": [
    {
     "data": {
      "text/plain": [
       "'oh'"
      ]
     },
     "execution_count": 116,
     "metadata": {},
     "output_type": "execute_result"
    }
   ],
   "source": [
    "my_string[-2:-4:-1]"
   ]
  },
  {
   "cell_type": "markdown",
   "id": "b27e42cf-b38c-4f2d-b2dc-44a707caa923",
   "metadata": {},
   "source": [
    "### If you don't do () then by default the python will consider it as tuple"
   ]
  },
  {
   "cell_type": "code",
   "execution_count": 85,
   "id": "71ee04e6-2f21-47be-823d-f42ac123911d",
   "metadata": {},
   "outputs": [],
   "source": [
    "tuple_abc = 10,20,30,'xyz','pqr'"
   ]
  },
  {
   "cell_type": "code",
   "execution_count": 87,
   "id": "f22dcfec-b24b-419a-a005-f4aecea48619",
   "metadata": {},
   "outputs": [
    {
     "name": "stdout",
     "output_type": "stream",
     "text": [
      "(10, 20, 30, 'xyz', 'pqr')\n"
     ]
    }
   ],
   "source": [
    "print(tuple_abc)"
   ]
  },
  {
   "cell_type": "code",
   "execution_count": 89,
   "id": "b59da5e1-7786-44d9-8af0-d858de078de7",
   "metadata": {},
   "outputs": [
    {
     "data": {
      "text/plain": [
       "tuple"
      ]
     },
     "execution_count": 89,
     "metadata": {},
     "output_type": "execute_result"
    }
   ],
   "source": [
    "type(tuple_abc)"
   ]
  },
  {
   "cell_type": "markdown",
   "id": "c1220603-5cb1-434a-8723-8bdd4576b286",
   "metadata": {},
   "source": [
    "### Nested Tuple"
   ]
  },
  {
   "cell_type": "code",
   "execution_count": 131,
   "id": "c4605a22-54d9-4d60-98ea-c4621a64a6d0",
   "metadata": {},
   "outputs": [],
   "source": [
    "nes_tuple = (1,2,3,('a','b','c'),4,5,6)"
   ]
  },
  {
   "cell_type": "code",
   "execution_count": 133,
   "id": "84c1ee57-b9cb-45cc-9314-8d0107cc7cad",
   "metadata": {},
   "outputs": [
    {
     "name": "stdout",
     "output_type": "stream",
     "text": [
      "Help on tuple object:\n",
      "\n",
      "class tuple(object)\n",
      " |  tuple(iterable=(), /)\n",
      " |\n",
      " |  Built-in immutable sequence.\n",
      " |\n",
      " |  If no argument is given, the constructor returns an empty tuple.\n",
      " |  If iterable is specified the tuple is initialized from iterable's items.\n",
      " |\n",
      " |  If the argument is a tuple, the return value is the same object.\n",
      " |\n",
      " |  Built-in subclasses:\n",
      " |      asyncgen_hooks\n",
      " |      MonthDayNano\n",
      " |      UnraisableHookArgs\n",
      " |\n",
      " |  Methods defined here:\n",
      " |\n",
      " |  __add__(self, value, /)\n",
      " |      Return self+value.\n",
      " |\n",
      " |  __contains__(self, key, /)\n",
      " |      Return bool(key in self).\n",
      " |\n",
      " |  __eq__(self, value, /)\n",
      " |      Return self==value.\n",
      " |\n",
      " |  __ge__(self, value, /)\n",
      " |      Return self>=value.\n",
      " |\n",
      " |  __getattribute__(self, name, /)\n",
      " |      Return getattr(self, name).\n",
      " |\n",
      " |  __getitem__(self, key, /)\n",
      " |      Return self[key].\n",
      " |\n",
      " |  __getnewargs__(self, /)\n",
      " |\n",
      " |  __gt__(self, value, /)\n",
      " |      Return self>value.\n",
      " |\n",
      " |  __hash__(self, /)\n",
      " |      Return hash(self).\n",
      " |\n",
      " |  __iter__(self, /)\n",
      " |      Implement iter(self).\n",
      " |\n",
      " |  __le__(self, value, /)\n",
      " |      Return self<=value.\n",
      " |\n",
      " |  __len__(self, /)\n",
      " |      Return len(self).\n",
      " |\n",
      " |  __lt__(self, value, /)\n",
      " |      Return self<value.\n",
      " |\n",
      " |  __mul__(self, value, /)\n",
      " |      Return self*value.\n",
      " |\n",
      " |  __ne__(self, value, /)\n",
      " |      Return self!=value.\n",
      " |\n",
      " |  __repr__(self, /)\n",
      " |      Return repr(self).\n",
      " |\n",
      " |  __rmul__(self, value, /)\n",
      " |      Return value*self.\n",
      " |\n",
      " |  count(self, value, /)\n",
      " |      Return number of occurrences of value.\n",
      " |\n",
      " |  index(self, value, start=0, stop=9223372036854775807, /)\n",
      " |      Return first index of value.\n",
      " |\n",
      " |      Raises ValueError if the value is not present.\n",
      " |\n",
      " |  ----------------------------------------------------------------------\n",
      " |  Class methods defined here:\n",
      " |\n",
      " |  __class_getitem__(...)\n",
      " |      See PEP 585\n",
      " |\n",
      " |  ----------------------------------------------------------------------\n",
      " |  Static methods defined here:\n",
      " |\n",
      " |  __new__(*args, **kwargs)\n",
      " |      Create and return a new object.  See help(type) for accurate signature.\n",
      "\n"
     ]
    }
   ],
   "source": [
    "help(tuple)"
   ]
  },
  {
   "cell_type": "markdown",
   "id": "8c33a160-6184-486e-a3b2-88f943e89225",
   "metadata": {},
   "source": [
    "# Tuple Methods"
   ]
  },
  {
   "cell_type": "code",
   "execution_count": 136,
   "id": "66793f49-9e80-4fcd-a86d-5aaaa9f5cac7",
   "metadata": {},
   "outputs": [],
   "source": [
    "my_tuple = ('a','b','c',(10,20,30),'a','b','c')"
   ]
  },
  {
   "cell_type": "code",
   "execution_count": 140,
   "id": "7d0e5d18-1975-4579-be68-1e71e3e917f2",
   "metadata": {},
   "outputs": [
    {
     "data": {
      "text/plain": [
       "2"
      ]
     },
     "execution_count": 140,
     "metadata": {},
     "output_type": "execute_result"
    }
   ],
   "source": [
    "my_tuple.count('a') #identify no. of occurences"
   ]
  },
  {
   "cell_type": "code",
   "execution_count": 146,
   "id": "56fb2595-a9d9-4364-9676-71dc0889bf59",
   "metadata": {},
   "outputs": [
    {
     "data": {
      "text/plain": [
       "1"
      ]
     },
     "execution_count": 146,
     "metadata": {},
     "output_type": "execute_result"
    }
   ],
   "source": [
    "my_tuple.index('b') #identify index position"
   ]
  },
  {
   "cell_type": "markdown",
   "id": "a61760d5-20ab-4a31-843e-ed618487f1f6",
   "metadata": {},
   "source": [
    "## Checking Mutablity in List and Tuple"
   ]
  },
  {
   "cell_type": "code",
   "execution_count": 149,
   "id": "3e8f6729-9fac-47d5-9894-9b9015ec66e4",
   "metadata": {},
   "outputs": [],
   "source": [
    "list_check = [10,20,30,40,50]\n",
    "tuple_check =(10,20,30,40,50)"
   ]
  },
  {
   "cell_type": "code",
   "execution_count": 151,
   "id": "0966563e-bb44-4c07-9de2-76fa171c3a8c",
   "metadata": {},
   "outputs": [
    {
     "data": {
      "text/plain": [
       "[10, 20, 30, 400, 50]"
      ]
     },
     "execution_count": 151,
     "metadata": {},
     "output_type": "execute_result"
    }
   ],
   "source": [
    "list_check[3] = 400\n",
    "list_check"
   ]
  },
  {
   "cell_type": "code",
   "execution_count": 157,
   "id": "fa3bcd11-8899-4112-97f2-f27ebfd47ad1",
   "metadata": {},
   "outputs": [
    {
     "ename": "TypeError",
     "evalue": "'tuple' object does not support item assignment",
     "output_type": "error",
     "traceback": [
      "\u001b[1;31m---------------------------------------------------------------------------\u001b[0m",
      "\u001b[1;31mTypeError\u001b[0m                                 Traceback (most recent call last)",
      "Cell \u001b[1;32mIn[157], line 1\u001b[0m\n\u001b[1;32m----> 1\u001b[0m \u001b[43mtuple_check\u001b[49m\u001b[43m[\u001b[49m\u001b[38;5;241;43m3\u001b[39;49m\u001b[43m]\u001b[49m \u001b[38;5;241m=\u001b[39m \u001b[38;5;241m400\u001b[39m\n\u001b[0;32m      2\u001b[0m tuple_check                \u001b[38;5;66;03m#Error: because tuple is immutable\u001b[39;00m\n",
      "\u001b[1;31mTypeError\u001b[0m: 'tuple' object does not support item assignment"
     ]
    }
   ],
   "source": [
    "tuple_check[3] = 400\n",
    "tuple_check                #Error: because tuple is immutable"
   ]
  },
  {
   "cell_type": "code",
   "execution_count": null,
   "id": "5b547aa6-cf67-4005-857a-e461c1dda9f9",
   "metadata": {},
   "outputs": [],
   "source": []
  }
 ],
 "metadata": {
  "kernelspec": {
   "display_name": "Python 3 (ipykernel)",
   "language": "python",
   "name": "python3"
  },
  "language_info": {
   "codemirror_mode": {
    "name": "ipython",
    "version": 3
   },
   "file_extension": ".py",
   "mimetype": "text/x-python",
   "name": "python",
   "nbconvert_exporter": "python",
   "pygments_lexer": "ipython3",
   "version": "3.12.7"
  }
 },
 "nbformat": 4,
 "nbformat_minor": 5
}
