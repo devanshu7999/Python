{
 "cells": [
  {
   "cell_type": "markdown",
   "id": "2e5f05ca-afda-4b0e-8394-a0ae05415ce1",
   "metadata": {},
   "source": [
    "# Tuple"
   ]
  },
  {
   "cell_type": "code",
   "execution_count": 2,
   "id": "acc738a4-bf34-4409-a737-2afa6b9423b6",
   "metadata": {},
   "outputs": [],
   "source": [
    "tuple_x = (1,2,3,4,5)"
   ]
  },
  {
   "cell_type": "code",
   "execution_count": 4,
   "id": "4097db79-7343-4dd1-b932-91fc75ee2cac",
   "metadata": {},
   "outputs": [
    {
     "name": "stdout",
     "output_type": "stream",
     "text": [
      "(1, 2, 3, 4, 5)\n"
     ]
    }
   ],
   "source": [
    "print(tuple_x)"
   ]
  },
  {
   "cell_type": "code",
   "execution_count": 6,
   "id": "fcdbf3ef-2a8a-4baa-ae41-e4313d4dfa06",
   "metadata": {},
   "outputs": [
    {
     "data": {
      "text/plain": [
       "tuple"
      ]
     },
     "execution_count": 6,
     "metadata": {},
     "output_type": "execute_result"
    }
   ],
   "source": [
    "type(tuple_x)"
   ]
  },
  {
   "cell_type": "code",
   "execution_count": 8,
   "id": "e5b7c529-1f18-44e1-8ca6-e9150faea113",
   "metadata": {},
   "outputs": [
    {
     "data": {
      "text/plain": [
       "1"
      ]
     },
     "execution_count": 8,
     "metadata": {},
     "output_type": "execute_result"
    }
   ],
   "source": [
    "tuple_x[0] #index 0 value return"
   ]
  },
  {
   "cell_type": "raw",
   "id": "c49aee89-8977-4592-9b72-82d470453057",
   "metadata": {},
   "source": [
    "Tuple also allows indexing"
   ]
  },
  {
   "cell_type": "markdown",
   "id": "c547c7e3-cc66-45f1-8820-5a667f1a8013",
   "metadata": {},
   "source": [
    "## Slicing"
   ]
  },
  {
   "cell_type": "markdown",
   "id": "de7a06ce-5f2d-4378-857e-b53f01a0dbb0",
   "metadata": {},
   "source": [
    "Datatype that supports 'indexing' also supports 'slicing'."
   ]
  },
  {
   "cell_type": "markdown",
   "id": "66ace381-0146-43bf-bd15-58f65b5829ac",
   "metadata": {},
   "source": [
    "Slicing allows extract multiple elements unlike indexing."
   ]
  },
  {
   "cell_type": "markdown",
   "id": "a6d1b5e6-3da4-4a7a-a066-872b2b761362",
   "metadata": {},
   "source": [
    "Syntax: name_variable[Start: End: Jump]"
   ]
  },
  {
   "cell_type": "markdown",
   "id": "251e78d4-3a9b-4e24-989b-6542908bd11d",
   "metadata": {},
   "source": [
    "Always pick n+1 index for 'End'"
   ]
  },
  {
   "cell_type": "code",
   "execution_count": 27,
   "id": "7c1109e7-3f2a-4a06-92b6-56584ff390e5",
   "metadata": {},
   "outputs": [],
   "source": [
    "tuple = (10,20,22,44,60)"
   ]
  },
  {
   "cell_type": "code",
   "execution_count": 29,
   "id": "28c08ade-9b84-48c9-8fef-2b30ecca31ad",
   "metadata": {},
   "outputs": [
    {
     "data": {
      "text/plain": [
       "(20, 22, 44)"
      ]
     },
     "execution_count": 29,
     "metadata": {},
     "output_type": "execute_result"
    }
   ],
   "source": [
    "tuple[1:4]"
   ]
  },
  {
   "cell_type": "code",
   "execution_count": 37,
   "id": "19eec5fd-173a-459d-9682-007c7c833c2a",
   "metadata": {},
   "outputs": [
    {
     "data": {
      "text/plain": [
       "(10, 20, 22, 44, 60)"
      ]
     },
     "execution_count": 37,
     "metadata": {},
     "output_type": "execute_result"
    }
   ],
   "source": [
    "tuple[0: ]"
   ]
  },
  {
   "cell_type": "code",
   "execution_count": 41,
   "id": "6d2921b4-9364-4a7a-bf54-cea80ebd908e",
   "metadata": {},
   "outputs": [
    {
     "data": {
      "text/plain": [
       "(44, 60)"
      ]
     },
     "execution_count": 41,
     "metadata": {},
     "output_type": "execute_result"
    }
   ],
   "source": [
    "tuple[-2: ] #considers left to right for each case"
   ]
  },
  {
   "cell_type": "code",
   "execution_count": null,
   "id": "119a939a-9a98-4557-9e23-76c804dda28f",
   "metadata": {},
   "outputs": [],
   "source": []
  }
 ],
 "metadata": {
  "kernelspec": {
   "display_name": "Python 3 (ipykernel)",
   "language": "python",
   "name": "python3"
  },
  "language_info": {
   "codemirror_mode": {
    "name": "ipython",
    "version": 3
   },
   "file_extension": ".py",
   "mimetype": "text/x-python",
   "name": "python",
   "nbconvert_exporter": "python",
   "pygments_lexer": "ipython3",
   "version": "3.12.7"
  }
 },
 "nbformat": 4,
 "nbformat_minor": 5
}
