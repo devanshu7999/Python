{
 "cells": [
  {
   "cell_type": "markdown",
   "id": "78f81285-af8f-4afc-a2a4-bef062fadcb4",
   "metadata": {},
   "source": [
    "# Set"
   ]
  },
  {
   "cell_type": "code",
   "execution_count": 80,
   "id": "50a9f82e-9479-4f5b-b3bc-02e2825c5b85",
   "metadata": {},
   "outputs": [],
   "source": [
    "set = {10, 20, 30, 10, 56, 30, 24, 70}"
   ]
  },
  {
   "cell_type": "code",
   "execution_count": 82,
   "id": "6bce6846-e67e-4a20-b376-f586d2dfeade",
   "metadata": {},
   "outputs": [
    {
     "name": "stdout",
     "output_type": "stream",
     "text": [
      "{20, 70, 56, 24, 10, 30}\n"
     ]
    }
   ],
   "source": [
    "print(set) #unordered & unique elements"
   ]
  },
  {
   "cell_type": "markdown",
   "id": "6b38d610-5fdf-46bb-b03a-68db8f7ce692",
   "metadata": {},
   "source": [
    "Set don't follow indexing"
   ]
  },
  {
   "cell_type": "code",
   "execution_count": 85,
   "id": "5d409e4e-9b51-4755-8635-1bb017822628",
   "metadata": {},
   "outputs": [
    {
     "data": {
      "text/plain": [
       "list"
      ]
     },
     "execution_count": 85,
     "metadata": {},
     "output_type": "execute_result"
    }
   ],
   "source": [
    "list = [] #we can create empty list\n",
    "type(list)"
   ]
  },
  {
   "cell_type": "code",
   "execution_count": 87,
   "id": "53208ef6-2b6d-4a73-b522-593ceb2489d3",
   "metadata": {},
   "outputs": [
    {
     "data": {
      "text/plain": [
       "tuple"
      ]
     },
     "execution_count": 87,
     "metadata": {},
     "output_type": "execute_result"
    }
   ],
   "source": [
    "tuple = () #we can also create empty tuple\n",
    "type(tuple)"
   ]
  },
  {
   "cell_type": "code",
   "execution_count": 16,
   "id": "91fa1ffa-0c77-40e8-8830-7fdd3407c786",
   "metadata": {},
   "outputs": [
    {
     "data": {
      "text/plain": [
       "dict"
      ]
     },
     "execution_count": 16,
     "metadata": {},
     "output_type": "execute_result"
    }
   ],
   "source": [
    "set = {} #but for set the datatype shows dictionary\n",
    "\n",
    "type(set)"
   ]
  },
  {
   "cell_type": "markdown",
   "id": "b615be2f-c6e9-4289-b6d6-181792df9493",
   "metadata": {},
   "source": [
    "##### for declaring empty set we need to use built in function set()"
   ]
  },
  {
   "cell_type": "code",
   "execution_count": 12,
   "id": "0fe15490-81ea-48ac-b176-9727cc91f02b",
   "metadata": {},
   "outputs": [
    {
     "data": {
      "text/plain": [
       "set"
      ]
     },
     "execution_count": 12,
     "metadata": {},
     "output_type": "execute_result"
    }
   ],
   "source": [
    "empty_set = set()\n",
    "type(empty_set)\n"
   ]
  },
  {
   "cell_type": "markdown",
   "id": "6ef7d6cb-7671-4b79-84ff-fefacf08d79b",
   "metadata": {},
   "source": [
    "## Mutability Factor of Set"
   ]
  },
  {
   "cell_type": "code",
   "execution_count": 21,
   "id": "f503fea0-47ab-4e6f-abb6-4fe9a3e647c3",
   "metadata": {},
   "outputs": [],
   "source": [
    "set_1 = {102,30,405,60,70,\"apple\",\"abc\",\"xyz\"}"
   ]
  },
  {
   "cell_type": "code",
   "execution_count": 25,
   "id": "c0d9bd4f-cf27-481d-9692-34ce398c887d",
   "metadata": {},
   "outputs": [
    {
     "data": {
      "text/plain": [
       "{102, 30, 405, 50, 60, 70, 'abc', 'apple', 'xyz'}"
      ]
     },
     "execution_count": 25,
     "metadata": {},
     "output_type": "execute_result"
    }
   ],
   "source": [
    "set_1.add(50)\n",
    "set_1"
   ]
  },
  {
   "cell_type": "code",
   "execution_count": 27,
   "id": "8fc4e72b-ae2d-4b01-ae5e-87b898090ef2",
   "metadata": {},
   "outputs": [
    {
     "data": {
      "text/plain": [
       "{102, 30, 405, 50, 70, 'abc', 'apple', 'xyz'}"
      ]
     },
     "execution_count": 27,
     "metadata": {},
     "output_type": "execute_result"
    }
   ],
   "source": [
    "set_1.remove(60)\n",
    "set_1"
   ]
  },
  {
   "cell_type": "markdown",
   "id": "d5730ce2-e68e-43cd-8817-1a6d3c429f0c",
   "metadata": {},
   "source": [
    "### Set elements are immutable in nature (can't be replaced as no indexing support) , But set is mutable (add,remove)"
   ]
  },
  {
   "cell_type": "markdown",
   "id": "f93b8beb-f187-4ec3-bf1e-5ea6bfe11491",
   "metadata": {},
   "source": [
    "### Set only allows 'Primitive Datatypes' and 'Tuple' as its element"
   ]
  },
  {
   "cell_type": "markdown",
   "id": "14e2e954-4f19-4e41-8168-fb7ee6027dfe",
   "metadata": {},
   "source": [
    "### No Nested Set is allowed"
   ]
  },
  {
   "cell_type": "code",
   "execution_count": 41,
   "id": "b69dd741-2861-490f-a964-7b9c287cd5d5",
   "metadata": {},
   "outputs": [
    {
     "name": "stdout",
     "output_type": "stream",
     "text": [
      "Help on set object:\n",
      "\n",
      "class set(object)\n",
      " |  set() -> new empty set object\n",
      " |  set(iterable) -> new set object\n",
      " |\n",
      " |  Build an unordered collection of unique elements.\n",
      " |\n",
      " |  Methods defined here:\n",
      " |\n",
      " |  __and__(self, value, /)\n",
      " |      Return self&value.\n",
      " |\n",
      " |  __contains__(...)\n",
      " |      x.__contains__(y) <==> y in x.\n",
      " |\n",
      " |  __eq__(self, value, /)\n",
      " |      Return self==value.\n",
      " |\n",
      " |  __ge__(self, value, /)\n",
      " |      Return self>=value.\n",
      " |\n",
      " |  __getattribute__(self, name, /)\n",
      " |      Return getattr(self, name).\n",
      " |\n",
      " |  __gt__(self, value, /)\n",
      " |      Return self>value.\n",
      " |\n",
      " |  __iand__(self, value, /)\n",
      " |      Return self&=value.\n",
      " |\n",
      " |  __init__(self, /, *args, **kwargs)\n",
      " |      Initialize self.  See help(type(self)) for accurate signature.\n",
      " |\n",
      " |  __ior__(self, value, /)\n",
      " |      Return self|=value.\n",
      " |\n",
      " |  __isub__(self, value, /)\n",
      " |      Return self-=value.\n",
      " |\n",
      " |  __iter__(self, /)\n",
      " |      Implement iter(self).\n",
      " |\n",
      " |  __ixor__(self, value, /)\n",
      " |      Return self^=value.\n",
      " |\n",
      " |  __le__(self, value, /)\n",
      " |      Return self<=value.\n",
      " |\n",
      " |  __len__(self, /)\n",
      " |      Return len(self).\n",
      " |\n",
      " |  __lt__(self, value, /)\n",
      " |      Return self<value.\n",
      " |\n",
      " |  __ne__(self, value, /)\n",
      " |      Return self!=value.\n",
      " |\n",
      " |  __or__(self, value, /)\n",
      " |      Return self|value.\n",
      " |\n",
      " |  __rand__(self, value, /)\n",
      " |      Return value&self.\n",
      " |\n",
      " |  __reduce__(...)\n",
      " |      Return state information for pickling.\n",
      " |\n",
      " |  __repr__(self, /)\n",
      " |      Return repr(self).\n",
      " |\n",
      " |  __ror__(self, value, /)\n",
      " |      Return value|self.\n",
      " |\n",
      " |  __rsub__(self, value, /)\n",
      " |      Return value-self.\n",
      " |\n",
      " |  __rxor__(self, value, /)\n",
      " |      Return value^self.\n",
      " |\n",
      " |  __sizeof__(...)\n",
      " |      S.__sizeof__() -> size of S in memory, in bytes\n",
      " |\n",
      " |  __sub__(self, value, /)\n",
      " |      Return self-value.\n",
      " |\n",
      " |  __xor__(self, value, /)\n",
      " |      Return self^value.\n",
      " |\n",
      " |  add(...)\n",
      " |      Add an element to a set.\n",
      " |\n",
      " |      This has no effect if the element is already present.\n",
      " |\n",
      " |  clear(...)\n",
      " |      Remove all elements from this set.\n",
      " |\n",
      " |  copy(...)\n",
      " |      Return a shallow copy of a set.\n",
      " |\n",
      " |  difference(...)\n",
      " |      Return the difference of two or more sets as a new set.\n",
      " |\n",
      " |      (i.e. all elements that are in this set but not the others.)\n",
      " |\n",
      " |  difference_update(...)\n",
      " |      Remove all elements of another set from this set.\n",
      " |\n",
      " |  discard(...)\n",
      " |      Remove an element from a set if it is a member.\n",
      " |\n",
      " |      Unlike set.remove(), the discard() method does not raise\n",
      " |      an exception when an element is missing from the set.\n",
      " |\n",
      " |  intersection(...)\n",
      " |      Return the intersection of two sets as a new set.\n",
      " |\n",
      " |      (i.e. all elements that are in both sets.)\n",
      " |\n",
      " |  intersection_update(...)\n",
      " |      Update a set with the intersection of itself and another.\n",
      " |\n",
      " |  isdisjoint(...)\n",
      " |      Return True if two sets have a null intersection.\n",
      " |\n",
      " |  issubset(self, other, /)\n",
      " |      Test whether every element in the set is in other.\n",
      " |\n",
      " |  issuperset(self, other, /)\n",
      " |      Test whether every element in other is in the set.\n",
      " |\n",
      " |  pop(...)\n",
      " |      Remove and return an arbitrary set element.\n",
      " |      Raises KeyError if the set is empty.\n",
      " |\n",
      " |  remove(...)\n",
      " |      Remove an element from a set; it must be a member.\n",
      " |\n",
      " |      If the element is not a member, raise a KeyError.\n",
      " |\n",
      " |  symmetric_difference(...)\n",
      " |      Return the symmetric difference of two sets as a new set.\n",
      " |\n",
      " |      (i.e. all elements that are in exactly one of the sets.)\n",
      " |\n",
      " |  symmetric_difference_update(...)\n",
      " |      Update a set with the symmetric difference of itself and another.\n",
      " |\n",
      " |  union(...)\n",
      " |      Return the union of sets as a new set.\n",
      " |\n",
      " |      (i.e. all elements that are in either set.)\n",
      " |\n",
      " |  update(...)\n",
      " |      Update a set with the union of itself and others.\n",
      " |\n",
      " |  ----------------------------------------------------------------------\n",
      " |  Class methods defined here:\n",
      " |\n",
      " |  __class_getitem__(...)\n",
      " |      See PEP 585\n",
      " |\n",
      " |  ----------------------------------------------------------------------\n",
      " |  Static methods defined here:\n",
      " |\n",
      " |  __new__(*args, **kwargs)\n",
      " |      Create and return a new object.  See help(type) for accurate signature.\n",
      " |\n",
      " |  ----------------------------------------------------------------------\n",
      " |  Data and other attributes defined here:\n",
      " |\n",
      " |  __hash__ = None\n",
      "\n"
     ]
    }
   ],
   "source": [
    "help(set_1)"
   ]
  },
  {
   "cell_type": "code",
   "execution_count": 49,
   "id": "5e4a1171-8947-4853-8651-5e348ec4e580",
   "metadata": {},
   "outputs": [
    {
     "data": {
      "text/plain": [
       "[10, 20, 30, 40, 50, 60]"
      ]
     },
     "execution_count": 49,
     "metadata": {},
     "output_type": "execute_result"
    }
   ],
   "source": [
    "#Merging list\n",
    "\n",
    "list1 = [10,20,30]\n",
    "list2 = [40,50,60]\n",
    "\n",
    "list1 + list2"
   ]
  },
  {
   "cell_type": "code",
   "execution_count": 51,
   "id": "1e03c45b-7649-4fd6-adfb-f4a0e0463abc",
   "metadata": {},
   "outputs": [
    {
     "data": {
      "text/plain": [
       "(1, 2, 3, 4, 5, 6)"
      ]
     },
     "execution_count": 51,
     "metadata": {},
     "output_type": "execute_result"
    }
   ],
   "source": [
    "#Similarly, for tuple\n",
    "\n",
    "tuple1 = (1,2,3)\n",
    "tuple2 = (4,5,6)\n",
    "\n",
    "tuple1 + tuple2"
   ]
  },
  {
   "cell_type": "code",
   "execution_count": 69,
   "id": "5930a019-c24e-47e6-a3b7-69b11985b4e0",
   "metadata": {},
   "outputs": [
    {
     "ename": "TypeError",
     "evalue": "unsupported operand type(s) for +: 'set' and 'set'",
     "output_type": "error",
     "traceback": [
      "\u001b[1;31m---------------------------------------------------------------------------\u001b[0m",
      "\u001b[1;31mTypeError\u001b[0m                                 Traceback (most recent call last)",
      "Cell \u001b[1;32mIn[69], line 6\u001b[0m\n\u001b[0;32m      3\u001b[0m set1 \u001b[38;5;241m=\u001b[39m {\u001b[38;5;241m10\u001b[39m,\u001b[38;5;241m20\u001b[39m,\u001b[38;5;241m30\u001b[39m}\n\u001b[0;32m      4\u001b[0m set2 \u001b[38;5;241m=\u001b[39m {\u001b[38;5;241m30\u001b[39m,\u001b[38;5;241m40\u001b[39m,\u001b[38;5;241m50\u001b[39m,\u001b[38;5;241m60\u001b[39m}\n\u001b[1;32m----> 6\u001b[0m \u001b[43mset1\u001b[49m\u001b[43m \u001b[49m\u001b[38;5;241;43m+\u001b[39;49m\u001b[43m \u001b[49m\u001b[43mset2\u001b[49m \u001b[38;5;66;03m#We face error, So we need to use union method for set\u001b[39;00m\n",
      "\u001b[1;31mTypeError\u001b[0m: unsupported operand type(s) for +: 'set' and 'set'"
     ]
    }
   ],
   "source": [
    "#But for Set\n",
    "\n",
    "set1 = {10,20,30}\n",
    "set2 = {30,40,50,60}\n",
    "\n",
    "set1 + set2 #We face error, So we need to use union method for set"
   ]
  },
  {
   "cell_type": "code",
   "execution_count": 71,
   "id": "d3367583-0ee0-41f0-a00a-ab4644b724cb",
   "metadata": {},
   "outputs": [
    {
     "data": {
      "text/plain": [
       "{10, 20, 30, 40, 50, 60}"
      ]
     },
     "execution_count": 71,
     "metadata": {},
     "output_type": "execute_result"
    }
   ],
   "source": [
    "set1.union(set2)"
   ]
  },
  {
   "cell_type": "code",
   "execution_count": 73,
   "id": "aa53821b-0529-42b2-9928-20eb213e9ac6",
   "metadata": {},
   "outputs": [],
   "source": [
    "set3 = {60,70,80,90}"
   ]
  },
  {
   "cell_type": "code",
   "execution_count": 79,
   "id": "4f4d0a99-9471-4062-9458-944ba639b587",
   "metadata": {},
   "outputs": [
    {
     "data": {
      "text/plain": [
       "{10, 20, 30, 40, 50, 60, 70, 80, 90}"
      ]
     },
     "execution_count": 79,
     "metadata": {},
     "output_type": "execute_result"
    }
   ],
   "source": [
    "set1.union(set2,set3) #union allows multiple sets"
   ]
  },
  {
   "cell_type": "code",
   "execution_count": 81,
   "id": "f00cccc9-455f-4c86-b53d-002cccadda88",
   "metadata": {},
   "outputs": [
    {
     "data": {
      "text/plain": [
       "{30}"
      ]
     },
     "execution_count": 81,
     "metadata": {},
     "output_type": "execute_result"
    }
   ],
   "source": [
    "set1.intersection(set2)"
   ]
  },
  {
   "cell_type": "code",
   "execution_count": null,
   "id": "4d99a1e9-e305-47d4-a079-be9ef08b2b7b",
   "metadata": {},
   "outputs": [],
   "source": []
  }
 ],
 "metadata": {
  "kernelspec": {
   "display_name": "Python 3 (ipykernel)",
   "language": "python",
   "name": "python3"
  },
  "language_info": {
   "codemirror_mode": {
    "name": "ipython",
    "version": 3
   },
   "file_extension": ".py",
   "mimetype": "text/x-python",
   "name": "python",
   "nbconvert_exporter": "python",
   "pygments_lexer": "ipython3",
   "version": "3.12.7"
  }
 },
 "nbformat": 4,
 "nbformat_minor": 5
}
